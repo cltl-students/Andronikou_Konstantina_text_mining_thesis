{
 "cells": [
  {
   "cell_type": "markdown",
   "metadata": {},
   "source": [
    "# Error Analysis based on Cosine Similarity using an embeddings model\n",
    "## Konstantina Andronikou"
   ]
  },
  {
   "cell_type": "markdown",
   "metadata": {},
   "source": [
    "### Any type of pre-trained embeddings model can be used for this analysis. If you would like to create your own based on a specific type of data please have a look at the create_embeddings.ipynb."
   ]
  },
  {
   "cell_type": "code",
   "execution_count": null,
   "metadata": {},
   "outputs": [],
   "source": [
    "from gensim.models import KeyedVectors\n",
    "from gensim.models import Word2Vec\n",
    "import scipy"
   ]
  },
  {
   "cell_type": "code",
   "execution_count": null,
   "metadata": {},
   "outputs": [],
   "source": [
    "# Loading a stored model:\n",
    "embedded_model = KeyedVectors.load_word2vec_format('data/embedding model') "
   ]
  },
  {
   "cell_type": "code",
   "execution_count": null,
   "metadata": {},
   "outputs": [],
   "source": [
    "print('Vector size =', embedded_model.vector_size)\n",
    "print('Vocabulary size =', len(embedded_model.key_to_index))"
   ]
  },
  {
   "cell_type": "code",
   "execution_count": null,
   "metadata": {},
   "outputs": [],
   "source": [
    "#We can check the similarity between two words for example:\n",
    "print(embedded_model.similarity(\"word1\", \"word2\"))"
   ]
  },
  {
   "cell_type": "markdown",
   "metadata": {},
   "source": [
    "### This error analysis will evaluate words in two different ways: Overall cosine similarity and pairwise cosine similarity"
   ]
  },
  {
   "cell_type": "code",
   "execution_count": null,
   "metadata": {},
   "outputs": [],
   "source": [
    "#This function takes all possible word pairs within a topic and calculates the overall score of similarity\n",
    "def cosine_similarity(keyword_list):\n",
    "    \"\"\" Calculates the overall cosine similarity for all topics\n",
    "        Argument:keyword_list (this refers to the output of the topic model)\n",
    "        return final: a float representing the overall score of cosine similarity\n",
    "    \"\"\"\n",
    "    first = keyword_list\n",
    "    second = keyword_list\n",
    "    results = []\n",
    "    for k in first:\n",
    "        for i in second:\n",
    "            if i != k:\n",
    "                test = embedded_model.similarity(i,k)\n",
    "                results.append(test)\n",
    "    final = sum(results) / len(results)\n",
    "    return final"
   ]
  },
  {
   "cell_type": "code",
   "execution_count": null,
   "metadata": {},
   "outputs": [],
   "source": [
    "# This function can be called with a list containing the topic modeling output - in this case is token level, for example:\n",
    "topic0 = ['word1','word2','word3']\n",
    "cosine_similarity(topic0)"
   ]
  },
  {
   "cell_type": "markdown",
   "metadata": {},
   "source": [
    "### The following step is to get a better idea of the content generated within a topic."
   ]
  },
  {
   "cell_type": "code",
   "execution_count": null,
   "metadata": {},
   "outputs": [],
   "source": [
    "#This function takes all possible word pairs within a topic and calculated their similarity \n",
    "def pairwise_cosine_similarity(keyword_list):\n",
    "    \"\"\" Calculates pairwise cosine similarity for all possible word combinations \n",
    "        Arguments:keyword_list (this refers to the output of the topic model)\n",
    "        return results: list including all pairwise cosine similarity scores \n",
    "    \"\"\"\n",
    "    first = keyword_list\n",
    "    second = keyword_list\n",
    "    results = []\n",
    "    for k in first:\n",
    "        for i in second:\n",
    "            if i != k:\n",
    "                test = embedded_model.similarity(i,k)\n",
    "                results.append(test)\n",
    "    return results"
   ]
  },
  {
   "cell_type": "code",
   "execution_count": null,
   "metadata": {},
   "outputs": [],
   "source": [
    "pairwise_cosine_similarity(topic0)"
   ]
  },
  {
   "cell_type": "markdown",
   "metadata": {},
   "source": [
    "## End of Notebook"
   ]
  }
 ],
 "metadata": {
  "interpreter": {
   "hash": "57baa5815c940fdaff4d14510622de9616cae602444507ba5d0b6727c008cbd6"
  },
  "kernelspec": {
   "display_name": "Python 3.7.8 64-bit",
   "name": "python3"
  },
  "language_info": {
   "codemirror_mode": {
    "name": "ipython",
    "version": 3
   },
   "file_extension": ".py",
   "mimetype": "text/x-python",
   "name": "python",
   "nbconvert_exporter": "python",
   "pygments_lexer": "ipython3",
   "version": "3.7.8"
  },
  "orig_nbformat": 4
 },
 "nbformat": 4,
 "nbformat_minor": 2
}
